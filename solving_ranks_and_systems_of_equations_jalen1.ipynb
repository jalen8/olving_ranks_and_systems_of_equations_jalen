{
  "nbformat": 4,
  "nbformat_minor": 0,
  "metadata": {
    "colab": {
      "provenance": []
    },
    "kernelspec": {
      "name": "python3",
      "display_name": "Python 3"
    },
    "language_info": {
      "name": "python"
    }
  },
  "cells": [
    {
      "cell_type": "markdown",
      "source": [
        "**Determine the Rank of Matrix**"
      ],
      "metadata": {
        "id": "12WC7AfNA3pN"
      }
    },
    {
      "cell_type": "code",
      "source": [
        "\n",
        "import numpy as np\n",
        "\n",
        "# Define the matrix A\n",
        "A = np.array([[1, 2, 3],\n",
        "              [4, 5, 6],\n",
        "              [7, 8, 9]])\n",
        "\n",
        "# Compute the rank\n",
        "rank = np.linalg.matrix_rank(A)\n",
        "print(f\"Rank of matrix A: {rank}\")"
      ],
      "metadata": {
        "colab": {
          "base_uri": "https://localhost:8080/"
        },
        "id": "vuGMMj05A67o",
        "outputId": "2a8589f0-4e35-474a-a561-8429c4a73ca3"
      },
      "execution_count": null,
      "outputs": [
        {
          "output_type": "stream",
          "name": "stdout",
          "text": [
            "Rank of matrix A: 2\n"
          ]
        }
      ]
    },
    {
      "cell_type": "code",
      "source": [
        "import numpy as np\n",
        "\n",
        "# Define the coefficient matrix A\n",
        "A = np.array([[2, 1, -1],\n",
        "              [-3, -1, 2],\n",
        "              [-2, 1, 2]])\n",
        "\n",
        "# Define the constant vector b\n",
        "b = np.array([8, -11, -3])\n",
        "\n",
        "# Check if the matrix A is invertible\n",
        "if np.linalg.det(A) != 0:  # If the determinant is not zero\n",
        "    # Calculate the solution using the inverse of A\n",
        "    x = np.linalg.inv(A).dot(b)\n",
        "    print(f\"Solution: {x}\")\n",
        "else:\n",
        "    print(\"Matrix A is not invertible. No unique solution.\")"
      ],
      "metadata": {
        "colab": {
          "base_uri": "https://localhost:8080/"
        },
        "id": "1rlPPUpLBANW",
        "outputId": "fc0686bc-175f-4b68-9ee5-11aba4e3086e"
      },
      "execution_count": null,
      "outputs": [
        {
          "output_type": "stream",
          "name": "stdout",
          "text": [
            "Solution: [ 2.  3. -1.]\n"
          ]
        }
      ]
    },
    {
      "cell_type": "markdown",
      "source": [
        "**Student Practice Problems**"
      ],
      "metadata": {
        "id": "sDee1um4BM9K"
      }
    },
    {
      "cell_type": "markdown",
      "source": [
        "\n",
        "\n",
        "*   Rank of a Matrix\n",
        "\n"
      ],
      "metadata": {
        "id": "JMsuFCbwBWji"
      }
    },
    {
      "cell_type": "code",
      "source": [
        "import numpy as np\n",
        "\n",
        "# Define the matrix A\n",
        "A = np.array([[1, 2, 0, 4],\n",
        "              [3, 6, 0, 8],\n",
        "              [5, 10, 0, 12],\n",
        "              [7, 14, 0, 16]])\n",
        "\n",
        "# Compute the rank of matrix A\n",
        "rank = np.linalg.matrix_rank(A)  # Calculate the rank\n",
        "print(f\"Rank of matrix A: {rank}\")"
      ],
      "metadata": {
        "colab": {
          "base_uri": "https://localhost:8080/"
        },
        "id": "e6TJceDzBQ8F",
        "outputId": "9a9e732a-24f2-42b2-c0e0-5c3b9a6b4080"
      },
      "execution_count": null,
      "outputs": [
        {
          "output_type": "stream",
          "name": "stdout",
          "text": [
            "Rank of matrix A: 2\n"
          ]
        }
      ]
    },
    {
      "cell_type": "markdown",
      "source": [
        "\n",
        "\n",
        "*   Solving 3x3 System of Equations\n",
        "\n"
      ],
      "metadata": {
        "id": "5r0pfU1lBggn"
      }
    },
    {
      "cell_type": "code",
      "source": [
        "import numpy as np\n",
        "\n",
        "\n",
        "A = np.array([[1, 1, 1],\n",
        "              [2, 4, 3],\n",
        "              [0, 0, 1]])\n",
        "\n",
        "b = np.array([6, 18, 5])\n",
        "\n",
        "# Check if the matrix A is invertible\n",
        "if np.linalg.det(A) != 0:  # If the determinant is not zero\n",
        "    # Calculate the solution using the inverse of A\n",
        "    x = np.linalg.inv(A).dot(b)  # Use dot product to find the solution vector\n",
        "    print(f\"Solution: x = {x[0]}, y = {x[1]}, z = {x[2]}\")\n",
        "else:\n",
        "    print(\"Matrix A is not invertible. No unique solution.\")"
      ],
      "metadata": {
        "colab": {
          "base_uri": "https://localhost:8080/"
        },
        "id": "5_x5TvwkBfAG",
        "outputId": "22af3c44-12e5-486d-fb8a-6b0ac95742d5"
      },
      "execution_count": null,
      "outputs": [
        {
          "output_type": "stream",
          "name": "stdout",
          "text": [
            "Solution: x = 0.5, y = 0.5, z = 5.0\n"
          ]
        }
      ]
    },
    {
      "cell_type": "markdown",
      "source": [
        "\n",
        "\n",
        "*   Solving a 4x4 System of Equations\n",
        "\n"
      ],
      "metadata": {
        "id": "6AGgw3QABx9Q"
      }
    },
    {
      "cell_type": "code",
      "source": [
        "import numpy as np\n",
        "\n",
        "\n",
        "A = np.array([[1, 1, 1, 1],\n",
        "              [2, 1, 0, 3],\n",
        "              [4, 3, 2, 1],\n",
        "              [3, 0, 5, 2]])\n",
        "\n",
        "# Define the constant vector b\n",
        "b = np.array([10, 11, 20, 15])\n",
        "\n",
        "# Check if the matrix A is invertible\n",
        "if np.linalg.det(A) != 0:  # If the determinant is not zero\n",
        "    # Calculate the solution using the inverse of A\n",
        "    x = np.linalg.inv(A).dot(b)  # Use dot product to find the solution vector\n",
        "    print(f\"Solution: x = {x[0]}, y = {x[1]}, z = {x[2]}, w = {x[3]}\")\n",
        "else:\n",
        "    print(\"Matrix A is not invertible. No unique solution.\")"
      ],
      "metadata": {
        "colab": {
          "base_uri": "https://localhost:8080/"
        },
        "id": "0fqR1WbHBwm8",
        "outputId": "37d9f495-4ff7-47e6-d6a5-daacf6f3ed83"
      },
      "execution_count": null,
      "outputs": [
        {
          "output_type": "stream",
          "name": "stdout",
          "text": [
            "Solution: x = -1.625, y = 6.0, z = 2.875, w = 2.75\n"
          ]
        }
      ]
    },
    {
      "cell_type": "code",
      "source": [],
      "metadata": {
        "id": "26obAe8SB9Vr"
      },
      "execution_count": null,
      "outputs": []
    }
  ]
}